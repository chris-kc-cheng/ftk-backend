{
 "cells": [
  {
   "cell_type": "code",
   "execution_count": null,
   "metadata": {},
   "outputs": [],
   "source": [
    "%cd ..\n",
    "import mongoengine as me\n",
    "from models import Fund\n",
    "\n",
    "me.connect('ftk-db')\n",
    "\n",
    "#Fund.objects.delete()\n",
    "#a = Fund(name='123 Fund', firm='123 Capital', assetClasses=['Hedge Fund'])\n",
    "#a.save()\n",
    "str(a.id)\n"
   ]
  },
  {
   "cell_type": "code",
   "execution_count": null,
   "metadata": {},
   "outputs": [],
   "source": [
    "Fund.objects.get(pk='6568effb479cd48e36a00b6a')"
   ]
  }
 ],
 "metadata": {
  "kernelspec": {
   "display_name": ".venv",
   "language": "python",
   "name": "python3"
  },
  "language_info": {
   "codemirror_mode": {
    "name": "ipython",
    "version": 3
   },
   "file_extension": ".py",
   "mimetype": "text/x-python",
   "name": "python",
   "nbconvert_exporter": "python",
   "pygments_lexer": "ipython3",
   "version": "3.11.3"
  }
 },
 "nbformat": 4,
 "nbformat_minor": 2
}

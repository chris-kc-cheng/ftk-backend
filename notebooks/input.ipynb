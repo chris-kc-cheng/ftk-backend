{
 "cells": [
  {
   "cell_type": "code",
   "execution_count": 1,
   "metadata": {},
   "outputs": [
    {
     "name": "stdout",
     "output_type": "stream",
     "text": [
      "c:\\Users\\Admin\\Dev\\ftk-backend\n"
     ]
    },
    {
     "data": {
      "text/plain": [
       "MongoClient(host=['localhost:27017'], document_class=dict, tz_aware=False, connect=True, read_preference=Primary(), uuidrepresentation=3)"
      ]
     },
     "execution_count": 1,
     "metadata": {},
     "output_type": "execute_result"
    }
   ],
   "source": [
    "%cd ..\n",
    "from bson import json_util\n",
    "import mongoengine as me\n",
    "from models import Fund\n",
    "from models import Note\n",
    "me.connect('ftk-db')\n",
    "\n",
    "#Fund.objects.delete()\n",
    "#a = Fund(name='123 Fund', firm='123 Capital', assetClasses=['Hedge Fund'])\n",
    "#a.save()"
   ]
  },
  {
   "cell_type": "code",
   "execution_count": null,
   "metadata": {},
   "outputs": [],
   "source": [
    "Fund.objects.get(pk='6568effb479cd48e36a00b6a')"
   ]
  },
  {
   "cell_type": "code",
   "execution_count": 2,
   "metadata": {},
   "outputs": [
    {
     "ename": "ModuleNotFoundError",
     "evalue": "No module named 'models'",
     "output_type": "error",
     "traceback": [
      "\u001b[1;31m---------------------------------------------------------------------------\u001b[0m",
      "\u001b[1;31mModuleNotFoundError\u001b[0m                       Traceback (most recent call last)",
      "\u001b[1;32mc:\\Users\\Admin\\Dev\\ftk-backend\\notebooks\\input.ipynb Cell 3\u001b[0m line \u001b[0;36m1\n\u001b[1;32m----> <a href='vscode-notebook-cell:/c%3A/Users/Admin/Dev/ftk-backend/notebooks/input.ipynb#W2sZmlsZQ%3D%3D?line=0'>1</a>\u001b[0m \u001b[39mfrom\u001b[39;00m \u001b[39mmodels\u001b[39;00m \u001b[39mimport\u001b[39;00m Note\n\u001b[0;32m      <a href='vscode-notebook-cell:/c%3A/Users/Admin/Dev/ftk-backend/notebooks/input.ipynb#W2sZmlsZQ%3D%3D?line=1'>2</a>\u001b[0m note \u001b[39m=\u001b[39m Note\u001b[39m.\u001b[39mobjects\u001b[39m.\u001b[39mget(pk\u001b[39m=\u001b[39m\u001b[39m'\u001b[39m\u001b[39m656a40eafaaef69b2d49c792\u001b[39m\u001b[39m'\u001b[39m)\n\u001b[0;32m      <a href='vscode-notebook-cell:/c%3A/Users/Admin/Dev/ftk-backend/notebooks/input.ipynb#W2sZmlsZQ%3D%3D?line=2'>3</a>\u001b[0m note\u001b[39m.\u001b[39mauthor\n",
      "\u001b[1;31mModuleNotFoundError\u001b[0m: No module named 'models'"
     ]
    }
   ],
   "source": [
    "note = Note.objects.get(pk='656a40eafaaef69b2d49c792')\n",
    "note.author\n",
    "note.fund"
   ]
  },
  {
   "cell_type": "code",
   "execution_count": 2,
   "metadata": {},
   "outputs": [
    {
     "data": {
      "text/plain": [
       "'[{\"_id\": {\"$oid\": \"656ac14f90214ce87c67e67f\"}, \"author\": {\"firstName\": \"Jane\", \"lastName\": \"Smith\"}, \"fund\": {\"name\": \"Agawam Fund\"}, \"modifiedDate\": {\"$date\": \"2023-12-02T00:32:05.031Z\"}, \"content\": \"ccc\"}, {\"_id\": {\"$oid\": \"656aa9ffd66de196ff552c7c\"}, \"author\": {\"firstName\": \"John\", \"lastName\": \"Doe\"}, \"fund\": {\"name\": \"Autlan de Navarro Fund\"}, \"modifiedDate\": {\"$date\": \"2023-12-01T22:52:35.348Z\"}, \"content\": \"aaa\"}]'"
      ]
     },
     "execution_count": 2,
     "metadata": {},
     "output_type": "execute_result"
    }
   ],
   "source": [
    "json_util.dumps(Note.objects().aggregate([\n",
    "    {\n",
    "        '$match': {\n",
    "            'published': True\n",
    "        }\n",
    "    }, {\n",
    "        '$sort': {\n",
    "            'modifiedDate': -1\n",
    "        }\n",
    "    }, {\n",
    "        '$skip': 0\n",
    "    }, {\n",
    "        '$limit': 2\n",
    "    }, {\n",
    "        '$lookup': {\n",
    "            'from': 'user', \n",
    "            'localField': 'author', \n",
    "            'foreignField': '_id', \n",
    "            'as': 'author'\n",
    "        }\n",
    "    }, {\n",
    "        '$lookup': {\n",
    "            'from': 'fund', \n",
    "            'localField': 'fund', \n",
    "            'foreignField': '_id', \n",
    "            'as': 'fund'\n",
    "        }\n",
    "    }, {\n",
    "        '$unwind': {\n",
    "            'path': '$author', \n",
    "            'preserveNullAndEmptyArrays': True\n",
    "        }\n",
    "    }, {\n",
    "        '$unwind': {\n",
    "            'path': '$fund', \n",
    "            'preserveNullAndEmptyArrays': True\n",
    "        }\n",
    "    }, {\n",
    "        '$project': {\n",
    "            'fund.name': 1, \n",
    "            'author.firstName': 1, \n",
    "            'author.lastName': 1, \n",
    "            'content': 1, \n",
    "            'modifiedDate': 1\n",
    "        }\n",
    "    }\n",
    "]))"
   ]
  }
 ],
 "metadata": {
  "kernelspec": {
   "display_name": ".venv",
   "language": "python",
   "name": "python3"
  },
  "language_info": {
   "codemirror_mode": {
    "name": "ipython",
    "version": 3
   },
   "file_extension": ".py",
   "mimetype": "text/x-python",
   "name": "python",
   "nbconvert_exporter": "python",
   "pygments_lexer": "ipython3",
   "version": "3.11.3"
  }
 },
 "nbformat": 4,
 "nbformat_minor": 2
}

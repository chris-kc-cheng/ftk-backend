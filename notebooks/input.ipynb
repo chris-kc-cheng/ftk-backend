{
 "cells": [
  {
   "cell_type": "code",
   "execution_count": null,
   "metadata": {},
   "outputs": [],
   "source": [
    "%cd ..\n",
    "import mongoengine as me\n",
    "from models import Fund\n",
    "\n",
    "me.connect('ftk-db')\n",
    "\n",
    "Fund.objects.delete()\n",
    "a = Fund(name='A Fund')\n",
    "a.save()\n",
    "b = Fund(name='B Fund', asset_class=['Hedge Fund'])\n",
    "b.save()\n",
    "c = Fund(name='C Fund', asset_class=['Private Equity', 'Private Debt'])\n",
    "c.save()"
   ]
  }
 ],
 "metadata": {
  "kernelspec": {
   "display_name": ".venv",
   "language": "python",
   "name": "python3"
  },
  "language_info": {
   "codemirror_mode": {
    "name": "ipython",
    "version": 3
   },
   "file_extension": ".py",
   "mimetype": "text/x-python",
   "name": "python",
   "nbconvert_exporter": "python",
   "pygments_lexer": "ipython3",
   "version": "3.11.3"
  }
 },
 "nbformat": 4,
 "nbformat_minor": 2
}

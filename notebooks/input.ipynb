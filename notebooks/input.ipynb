{
 "cells": [
  {
   "cell_type": "code",
   "execution_count": 2,
   "metadata": {},
   "outputs": [
    {
     "name": "stderr",
     "output_type": "stream",
     "text": [
      "c:\\Users\\Admin\\Dev\\ftk-backend\\.venv\\Lib\\site-packages\\IPython\\core\\magics\\osm.py:417: UserWarning: using dhist requires you to install the `pickleshare` library.\n",
      "  self.shell.db['dhist'] = compress_dhist(dhist)[-100:]\n"
     ]
    },
    {
     "name": "stdout",
     "output_type": "stream",
     "text": [
      "c:\\Users\\Admin\\Dev\\ftk-backend\n"
     ]
    },
    {
     "ename": "NameError",
     "evalue": "name 'a' is not defined",
     "output_type": "error",
     "traceback": [
      "\u001b[1;31m---------------------------------------------------------------------------\u001b[0m",
      "\u001b[1;31mNameError\u001b[0m                                 Traceback (most recent call last)",
      "\u001b[1;32mc:\\Users\\Admin\\Dev\\ftk-backend\\notebooks\\input.ipynb Cell 1\u001b[0m line \u001b[0;36m1\n\u001b[0;32m      <a href='vscode-notebook-cell:/c%3A/Users/Admin/Dev/ftk-backend/notebooks/input.ipynb#W0sZmlsZQ%3D%3D?line=4'>5</a>\u001b[0m me\u001b[39m.\u001b[39mconnect(\u001b[39m'\u001b[39m\u001b[39mftk-db\u001b[39m\u001b[39m'\u001b[39m)\n\u001b[0;32m      <a href='vscode-notebook-cell:/c%3A/Users/Admin/Dev/ftk-backend/notebooks/input.ipynb#W0sZmlsZQ%3D%3D?line=6'>7</a>\u001b[0m \u001b[39m#Fund.objects.delete()\u001b[39;00m\n\u001b[0;32m      <a href='vscode-notebook-cell:/c%3A/Users/Admin/Dev/ftk-backend/notebooks/input.ipynb#W0sZmlsZQ%3D%3D?line=7'>8</a>\u001b[0m \u001b[39m#a = Fund(name='123 Fund', firm='123 Capital', assetClasses=['Hedge Fund'])\u001b[39;00m\n\u001b[0;32m      <a href='vscode-notebook-cell:/c%3A/Users/Admin/Dev/ftk-backend/notebooks/input.ipynb#W0sZmlsZQ%3D%3D?line=8'>9</a>\u001b[0m \u001b[39m#a.save()\u001b[39;00m\n\u001b[1;32m---> <a href='vscode-notebook-cell:/c%3A/Users/Admin/Dev/ftk-backend/notebooks/input.ipynb#W0sZmlsZQ%3D%3D?line=9'>10</a>\u001b[0m \u001b[39mstr\u001b[39m(a\u001b[39m.\u001b[39mid)\n",
      "\u001b[1;31mNameError\u001b[0m: name 'a' is not defined"
     ]
    }
   ],
   "source": [
    "%cd ..\n",
    "import mongoengine as me\n",
    "from models import Fund\n",
    "\n",
    "me.connect('ftk-db')\n",
    "\n",
    "#Fund.objects.delete()\n",
    "#a = Fund(name='123 Fund', firm='123 Capital', assetClasses=['Hedge Fund'])\n",
    "#a.save()\n",
    "str(a.id)"
   ]
  },
  {
   "cell_type": "code",
   "execution_count": null,
   "metadata": {},
   "outputs": [],
   "source": [
    "Fund.objects.get(pk='6568effb479cd48e36a00b6a')"
   ]
  },
  {
   "cell_type": "code",
   "execution_count": 3,
   "metadata": {},
   "outputs": [
    {
     "ename": "DoesNotExist",
     "evalue": "Note matching query does not exist.",
     "output_type": "error",
     "traceback": [
      "\u001b[1;31m---------------------------------------------------------------------------\u001b[0m",
      "\u001b[1;31mStopIteration\u001b[0m                             Traceback (most recent call last)",
      "File \u001b[1;32mc:\\Users\\Admin\\Dev\\ftk-backend\\.venv\\Lib\\site-packages\\mongoengine\\queryset\\base.py:269\u001b[0m, in \u001b[0;36mBaseQuerySet.get\u001b[1;34m(self, *q_objs, **query)\u001b[0m\n\u001b[0;32m    268\u001b[0m \u001b[39mtry\u001b[39;00m:\n\u001b[1;32m--> 269\u001b[0m     result \u001b[39m=\u001b[39m \u001b[39mnext\u001b[39;49m(queryset)\n\u001b[0;32m    270\u001b[0m \u001b[39mexcept\u001b[39;00m \u001b[39mStopIteration\u001b[39;00m:\n",
      "File \u001b[1;32mc:\\Users\\Admin\\Dev\\ftk-backend\\.venv\\Lib\\site-packages\\mongoengine\\queryset\\base.py:1608\u001b[0m, in \u001b[0;36mBaseQuerySet.__next__\u001b[1;34m(self)\u001b[0m\n\u001b[0;32m   1606\u001b[0m     \u001b[39mraise\u001b[39;00m \u001b[39mStopIteration\u001b[39;00m\n\u001b[1;32m-> 1608\u001b[0m raw_doc \u001b[39m=\u001b[39m \u001b[39mnext\u001b[39;49m(\u001b[39mself\u001b[39;49m\u001b[39m.\u001b[39;49m_cursor)\n\u001b[0;32m   1610\u001b[0m \u001b[39mif\u001b[39;00m \u001b[39mself\u001b[39m\u001b[39m.\u001b[39m_as_pymongo:\n",
      "File \u001b[1;32mc:\\Users\\Admin\\Dev\\ftk-backend\\.venv\\Lib\\site-packages\\pymongo\\cursor.py:1267\u001b[0m, in \u001b[0;36mCursor.next\u001b[1;34m(self)\u001b[0m\n\u001b[0;32m   1266\u001b[0m \u001b[39melse\u001b[39;00m:\n\u001b[1;32m-> 1267\u001b[0m     \u001b[39mraise\u001b[39;00m \u001b[39mStopIteration\u001b[39;00m\n",
      "\u001b[1;31mStopIteration\u001b[0m: ",
      "\nDuring handling of the above exception, another exception occurred:\n",
      "\u001b[1;31mDoesNotExist\u001b[0m                              Traceback (most recent call last)",
      "\u001b[1;32mc:\\Users\\Admin\\Dev\\ftk-backend\\notebooks\\input.ipynb Cell 3\u001b[0m line \u001b[0;36m2\n\u001b[0;32m      <a href='vscode-notebook-cell:/c%3A/Users/Admin/Dev/ftk-backend/notebooks/input.ipynb#W2sZmlsZQ%3D%3D?line=0'>1</a>\u001b[0m \u001b[39mfrom\u001b[39;00m \u001b[39mmodels\u001b[39;00m \u001b[39mimport\u001b[39;00m Note\n\u001b[1;32m----> <a href='vscode-notebook-cell:/c%3A/Users/Admin/Dev/ftk-backend/notebooks/input.ipynb#W2sZmlsZQ%3D%3D?line=1'>2</a>\u001b[0m note \u001b[39m=\u001b[39m Note\u001b[39m.\u001b[39;49mobjects\u001b[39m.\u001b[39;49mget(pk\u001b[39m=\u001b[39;49m\u001b[39m'\u001b[39;49m\u001b[39m656a40eafaaef69b2d49c792\u001b[39;49m\u001b[39m'\u001b[39;49m)\n\u001b[0;32m      <a href='vscode-notebook-cell:/c%3A/Users/Admin/Dev/ftk-backend/notebooks/input.ipynb#W2sZmlsZQ%3D%3D?line=2'>3</a>\u001b[0m note\u001b[39m.\u001b[39mauthor\n\u001b[0;32m      <a href='vscode-notebook-cell:/c%3A/Users/Admin/Dev/ftk-backend/notebooks/input.ipynb#W2sZmlsZQ%3D%3D?line=3'>4</a>\u001b[0m note\u001b[39m.\u001b[39mfund\n",
      "File \u001b[1;32mc:\\Users\\Admin\\Dev\\ftk-backend\\.venv\\Lib\\site-packages\\mongoengine\\queryset\\base.py:272\u001b[0m, in \u001b[0;36mBaseQuerySet.get\u001b[1;34m(self, *q_objs, **query)\u001b[0m\n\u001b[0;32m    270\u001b[0m \u001b[39mexcept\u001b[39;00m \u001b[39mStopIteration\u001b[39;00m:\n\u001b[0;32m    271\u001b[0m     msg \u001b[39m=\u001b[39m \u001b[39m\"\u001b[39m\u001b[39m%s\u001b[39;00m\u001b[39m matching query does not exist.\u001b[39m\u001b[39m\"\u001b[39m \u001b[39m%\u001b[39m queryset\u001b[39m.\u001b[39m_document\u001b[39m.\u001b[39m_class_name\n\u001b[1;32m--> 272\u001b[0m     \u001b[39mraise\u001b[39;00m queryset\u001b[39m.\u001b[39m_document\u001b[39m.\u001b[39mDoesNotExist(msg)\n\u001b[0;32m    274\u001b[0m \u001b[39mtry\u001b[39;00m:\n\u001b[0;32m    275\u001b[0m     \u001b[39m# Check if there is another match\u001b[39;00m\n\u001b[0;32m    276\u001b[0m     \u001b[39mnext\u001b[39m(queryset)\n",
      "\u001b[1;31mDoesNotExist\u001b[0m: Note matching query does not exist."
     ]
    }
   ],
   "source": [
    "from models import Note\n",
    "note = Note.objects.get(pk='656a40eafaaef69b2d49c792')\n",
    "note.author\n",
    "note.fund"
   ]
  },
  {
   "cell_type": "code",
   "execution_count": 11,
   "metadata": {},
   "outputs": [
    {
     "data": {
      "text/plain": [
       "'[{\"_id\": {\"$oid\": \"656aa9ffd66de196ff552c7c\"}, \"author\": {\"firstName\": \"John\", \"lastName\": \"Doe\"}, \"fund\": {\"name\": \"Autlan de Navarro Fund\"}, \"modifiedDate\": {\"$date\": \"2023-12-01T22:52:35.348Z\"}, \"content\": \"aaa\"}]'"
      ]
     },
     "execution_count": 11,
     "metadata": {},
     "output_type": "execute_result"
    }
   ],
   "source": [
    "from bson import json_util\n",
    "json_util.dumps(Note.objects().aggregate([\n",
    "    {\n",
    "        '$match': {\n",
    "            'published': True\n",
    "        }\n",
    "    }, {\n",
    "        '$sort': {\n",
    "            'modifiedDate': -1\n",
    "        }\n",
    "    }, {\n",
    "        '$skip': 0\n",
    "    }, {\n",
    "        '$limit': 2\n",
    "    }, {\n",
    "        '$lookup': {\n",
    "            'from': 'user', \n",
    "            'localField': 'author', \n",
    "            'foreignField': '_id', \n",
    "            'as': 'author'\n",
    "        }\n",
    "    }, {\n",
    "        '$lookup': {\n",
    "            'from': 'fund', \n",
    "            'localField': 'fund', \n",
    "            'foreignField': '_id', \n",
    "            'as': 'fund'\n",
    "        }\n",
    "    }, {\n",
    "        '$unwind': {\n",
    "            'path': '$author', \n",
    "            'preserveNullAndEmptyArrays': True\n",
    "        }\n",
    "    }, {\n",
    "        '$unwind': {\n",
    "            'path': '$fund', \n",
    "            'preserveNullAndEmptyArrays': True\n",
    "        }\n",
    "    }, {\n",
    "        '$project': {\n",
    "            'fund.name': 1, \n",
    "            'author.firstName': 1, \n",
    "            'author.lastName': 1, \n",
    "            'content': 1, \n",
    "            'modifiedDate': 1\n",
    "        }\n",
    "    }\n",
    "]))"
   ]
  }
 ],
 "metadata": {
  "kernelspec": {
   "display_name": ".venv",
   "language": "python",
   "name": "python3"
  },
  "language_info": {
   "codemirror_mode": {
    "name": "ipython",
    "version": 3
   },
   "file_extension": ".py",
   "mimetype": "text/x-python",
   "name": "python",
   "nbconvert_exporter": "python",
   "pygments_lexer": "ipython3",
   "version": "3.11.3"
  }
 },
 "nbformat": 4,
 "nbformat_minor": 2
}

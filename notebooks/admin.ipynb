{
 "cells": [
  {
   "cell_type": "code",
   "execution_count": 8,
   "metadata": {},
   "outputs": [
    {
     "name": "stdout",
     "output_type": "stream",
     "text": [
      "c:\\\n"
     ]
    },
    {
     "data": {
      "text/plain": [
       "<Flask '__main__'>"
      ]
     },
     "execution_count": 8,
     "metadata": {},
     "output_type": "execute_result"
    }
   ],
   "source": [
    "%cd ..\n",
    "import os\n",
    "import mongoengine as me\n",
    "import flask\n",
    "import flask_praetorian\n",
    "from models import User\n",
    "\n",
    "me.connect(host=os.getenv('MONGODB_HOST'))\n",
    "\n",
    "app = flask.Flask(__name__)\n",
    "app.config['SECRET_KEY'] = os.getenv('SECRET_KEY')\n",
    "guard = flask_praetorian.Praetorian()\n",
    "guard.init_app(app, User)"
   ]
  },
  {
   "cell_type": "code",
   "execution_count": 3,
   "metadata": {},
   "outputs": [
    {
     "data": {
      "text/plain": [
       "<User: User object>"
      ]
     },
     "execution_count": 3,
     "metadata": {},
     "output_type": "execute_result"
    }
   ],
   "source": [
    "# Return User object or ValidationError if password not supplied or DuplicateKeyError if username already exists\n",
    "#jdoe = User(username='jdoe', password=guard.hash_password('pass'), firstName='John', lastName='Doe', isActive=True, roles=['admin', 'user']) # User object\n",
    "#jdoe.save()\n",
    "\n",
    "test = User(username='test', password=guard.hash_password('b'), firstName='Jane', lastName='Smith', isActive=True, roles=['user'])\n",
    "test.save()\n"
   ]
  },
  {
   "cell_type": "code",
   "execution_count": null,
   "metadata": {},
   "outputs": [],
   "source": [
    "# Fill sample data directly using PyMongo\n",
    "import pandas as pd\n",
    "from pymongo import MongoClient\n",
    "\n",
    "df = pd.read_csv('fund.csv', dayfirst=True, parse_dates=['launchDate'])\n",
    "df['assetClasses'] = df['assetClasses'].apply(lambda x: x.split(','))\n",
    "df = df.replace({pd.NaT: None})\n",
    "\n",
    "client = MongoClient('localhost', 27017)\n",
    "db = client['ftk-db']\n",
    "collection = db.fund\n",
    "collection.insert_many(df.to_dict('records'))"
   ]
  }
 ],
 "metadata": {
  "kernelspec": {
   "display_name": ".venv",
   "language": "python",
   "name": "python3"
  },
  "language_info": {
   "codemirror_mode": {
    "name": "ipython",
    "version": 3
   },
   "file_extension": ".py",
   "mimetype": "text/x-python",
   "name": "python",
   "nbconvert_exporter": "python",
   "pygments_lexer": "ipython3",
   "version": "3.11.3"
  }
 },
 "nbformat": 4,
 "nbformat_minor": 2
}

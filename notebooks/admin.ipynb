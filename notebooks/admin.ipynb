{
 "cells": [
  {
   "cell_type": "code",
   "execution_count": null,
   "metadata": {},
   "outputs": [],
   "source": [
    "%cd ..\n",
    "import os\n",
    "import mongoengine as me\n",
    "import flask\n",
    "import flask_praetorian\n",
    "from models import User\n",
    "me.connect('ftk-db')\n",
    "\n",
    "app = flask.Flask(__name__)\n",
    "app.config['SECRET_KEY'] = os.getenv('SECRET_KEY')\n",
    "guard = flask_praetorian.Praetorian()\n",
    "guard.init_app(app, User)\n",
    "\n",
    "jdoe = User(username='jdoe', password=guard.hash_password('pass')) # User object\n",
    "jdoe.save() # Return User object or ValidationError if password not supplied or DuplicateKeyError if username already exists"
   ]
  },
  {
   "cell_type": "code",
   "execution_count": null,
   "metadata": {},
   "outputs": [],
   "source": []
  }
 ],
 "metadata": {
  "kernelspec": {
   "display_name": ".venv",
   "language": "python",
   "name": "python3"
  },
  "language_info": {
   "codemirror_mode": {
    "name": "ipython",
    "version": 3
   },
   "file_extension": ".py",
   "mimetype": "text/x-python",
   "name": "python",
   "nbconvert_exporter": "python",
   "pygments_lexer": "ipython3",
   "version": "3.11.3"
  }
 },
 "nbformat": 4,
 "nbformat_minor": 2
}

{
 "cells": [
  {
   "cell_type": "code",
   "execution_count": 2,
   "metadata": {},
   "outputs": [
    {
     "name": "stderr",
     "output_type": "stream",
     "text": [
      "c:\\Users\\Admin\\Dev\\ftk-backend\\.venv\\Lib\\site-packages\\IPython\\core\\magics\\osm.py:417: UserWarning: using dhist requires you to install the `pickleshare` library.\n",
      "  self.shell.db['dhist'] = compress_dhist(dhist)[-100:]\n"
     ]
    },
    {
     "name": "stdout",
     "output_type": "stream",
     "text": [
      "c:\\Users\\Admin\\Dev\\ftk-backend\n"
     ]
    },
    {
     "data": {
      "text/plain": [
       "<Flask '__main__'>"
      ]
     },
     "execution_count": 2,
     "metadata": {},
     "output_type": "execute_result"
    }
   ],
   "source": [
    "%cd ..\n",
    "import os\n",
    "import mongoengine as me\n",
    "import flask\n",
    "import flask_praetorian\n",
    "from models import User\n",
    "me.connect('ftk-db')\n",
    "\n",
    "app = flask.Flask(__name__)\n",
    "app.config['SECRET_KEY'] = os.getenv('SECRET_KEY')\n",
    "guard = flask_praetorian.Praetorian()\n",
    "guard.init_app(app, User)"
   ]
  },
  {
   "cell_type": "code",
   "execution_count": 3,
   "metadata": {},
   "outputs": [
    {
     "data": {
      "text/plain": [
       "<User: User object>"
      ]
     },
     "execution_count": 3,
     "metadata": {},
     "output_type": "execute_result"
    }
   ],
   "source": [
    "# Return User object or ValidationError if password not supplied or DuplicateKeyError if username already exists\n",
    "#jdoe = User(username='jdoe', password=guard.hash_password('pass'), firstName='John', lastName='Doe', isActive=True, roles=['admin', 'user']) # User object\n",
    "#jdoe.save()\n",
    "\n",
    "test = User(username='test', password=guard.hash_password('b'), firstName='Jane', lastName='Smith', isActive=True, roles=['user'])\n",
    "test.save()\n"
   ]
  },
  {
   "cell_type": "code",
   "execution_count": 31,
   "metadata": {},
   "outputs": [
    {
     "name": "stderr",
     "output_type": "stream",
     "text": [
      "C:\\Users\\Admin\\AppData\\Local\\Temp\\ipykernel_26160\\2240148459.py:5: UserWarning: Could not infer format, so each element will be parsed individually, falling back to `dateutil`. To ensure parsing is consistent and as-expected, please specify a format.\n",
      "  df = pd.read_csv('fund.csv', dayfirst=True, parse_dates=['launchDate'])\n"
     ]
    },
    {
     "data": {
      "text/plain": [
       "InsertManyResult([ObjectId('6568effb479cd48e36a00b58'), ObjectId('6568effb479cd48e36a00b59'), ObjectId('6568effb479cd48e36a00b5a'), ObjectId('6568effb479cd48e36a00b5b'), ObjectId('6568effb479cd48e36a00b5c'), ObjectId('6568effb479cd48e36a00b5d'), ObjectId('6568effb479cd48e36a00b5e'), ObjectId('6568effb479cd48e36a00b5f'), ObjectId('6568effb479cd48e36a00b60'), ObjectId('6568effb479cd48e36a00b61'), ObjectId('6568effb479cd48e36a00b62'), ObjectId('6568effb479cd48e36a00b63'), ObjectId('6568effb479cd48e36a00b64'), ObjectId('6568effb479cd48e36a00b65'), ObjectId('6568effb479cd48e36a00b66'), ObjectId('6568effb479cd48e36a00b67'), ObjectId('6568effb479cd48e36a00b68'), ObjectId('6568effb479cd48e36a00b69'), ObjectId('6568effb479cd48e36a00b6a'), ObjectId('6568effb479cd48e36a00b6b'), ObjectId('6568effb479cd48e36a00b6c'), ObjectId('6568effb479cd48e36a00b6d'), ObjectId('6568effb479cd48e36a00b6e'), ObjectId('6568effb479cd48e36a00b6f'), ObjectId('6568effb479cd48e36a00b70'), ObjectId('6568effb479cd48e36a00b71'), ObjectId('6568effb479cd48e36a00b72'), ObjectId('6568effb479cd48e36a00b73'), ObjectId('6568effb479cd48e36a00b74'), ObjectId('6568effb479cd48e36a00b75'), ObjectId('6568effb479cd48e36a00b76'), ObjectId('6568effb479cd48e36a00b77'), ObjectId('6568effb479cd48e36a00b78'), ObjectId('6568effb479cd48e36a00b79'), ObjectId('6568effb479cd48e36a00b7a'), ObjectId('6568effb479cd48e36a00b7b'), ObjectId('6568effb479cd48e36a00b7c'), ObjectId('6568effb479cd48e36a00b7d'), ObjectId('6568effb479cd48e36a00b7e'), ObjectId('6568effb479cd48e36a00b7f'), ObjectId('6568effb479cd48e36a00b80'), ObjectId('6568effb479cd48e36a00b81'), ObjectId('6568effb479cd48e36a00b82'), ObjectId('6568effb479cd48e36a00b83'), ObjectId('6568effb479cd48e36a00b84'), ObjectId('6568effb479cd48e36a00b85'), ObjectId('6568effb479cd48e36a00b86'), ObjectId('6568effb479cd48e36a00b87'), ObjectId('6568effb479cd48e36a00b88'), ObjectId('6568effb479cd48e36a00b89'), ObjectId('6568effb479cd48e36a00b8a'), ObjectId('6568effb479cd48e36a00b8b'), ObjectId('6568effb479cd48e36a00b8c'), ObjectId('6568effb479cd48e36a00b8d'), ObjectId('6568effb479cd48e36a00b8e'), ObjectId('6568effb479cd48e36a00b8f'), ObjectId('6568effb479cd48e36a00b90'), ObjectId('6568effb479cd48e36a00b91'), ObjectId('6568effb479cd48e36a00b92'), ObjectId('6568effb479cd48e36a00b93'), ObjectId('6568effb479cd48e36a00b94'), ObjectId('6568effb479cd48e36a00b95'), ObjectId('6568effb479cd48e36a00b96'), ObjectId('6568effb479cd48e36a00b97'), ObjectId('6568effb479cd48e36a00b98'), ObjectId('6568effb479cd48e36a00b99'), ObjectId('6568effb479cd48e36a00b9a'), ObjectId('6568effb479cd48e36a00b9b'), ObjectId('6568effb479cd48e36a00b9c'), ObjectId('6568effb479cd48e36a00b9d'), ObjectId('6568effb479cd48e36a00b9e'), ObjectId('6568effb479cd48e36a00b9f'), ObjectId('6568effb479cd48e36a00ba0'), ObjectId('6568effb479cd48e36a00ba1'), ObjectId('6568effb479cd48e36a00ba2'), ObjectId('6568effb479cd48e36a00ba3'), ObjectId('6568effb479cd48e36a00ba4'), ObjectId('6568effb479cd48e36a00ba5'), ObjectId('6568effb479cd48e36a00ba6'), ObjectId('6568effb479cd48e36a00ba7'), ObjectId('6568effb479cd48e36a00ba8'), ObjectId('6568effb479cd48e36a00ba9'), ObjectId('6568effb479cd48e36a00baa'), ObjectId('6568effb479cd48e36a00bab'), ObjectId('6568effb479cd48e36a00bac'), ObjectId('6568effb479cd48e36a00bad'), ObjectId('6568effb479cd48e36a00bae'), ObjectId('6568effb479cd48e36a00baf'), ObjectId('6568effb479cd48e36a00bb0'), ObjectId('6568effb479cd48e36a00bb1'), ObjectId('6568effb479cd48e36a00bb2'), ObjectId('6568effb479cd48e36a00bb3'), ObjectId('6568effb479cd48e36a00bb4'), ObjectId('6568effb479cd48e36a00bb5'), ObjectId('6568effb479cd48e36a00bb6'), ObjectId('6568effb479cd48e36a00bb7'), ObjectId('6568effb479cd48e36a00bb8'), ObjectId('6568effb479cd48e36a00bb9'), ObjectId('6568effb479cd48e36a00bba'), ObjectId('6568effb479cd48e36a00bbb')], acknowledged=True)"
      ]
     },
     "execution_count": 31,
     "metadata": {},
     "output_type": "execute_result"
    }
   ],
   "source": [
    "# Fill sample data directly using PyMongo\n",
    "import pandas as pd\n",
    "from pymongo import MongoClient\n",
    "\n",
    "df = pd.read_csv('fund.csv', dayfirst=True, parse_dates=['launchDate'])\n",
    "df['assetClasses'] = df['assetClasses'].apply(lambda x: x.split(','))\n",
    "df = df.replace({pd.NaT: None})\n",
    "\n",
    "client = MongoClient('localhost', 27017)\n",
    "db = client['ftk-db']\n",
    "collection = db.fund\n",
    "collection.insert_many(df.to_dict('records'))"
   ]
  }
 ],
 "metadata": {
  "kernelspec": {
   "display_name": ".venv",
   "language": "python",
   "name": "python3"
  },
  "language_info": {
   "codemirror_mode": {
    "name": "ipython",
    "version": 3
   },
   "file_extension": ".py",
   "mimetype": "text/x-python",
   "name": "python",
   "nbconvert_exporter": "python",
   "pygments_lexer": "ipython3",
   "version": "3.11.3"
  }
 },
 "nbformat": 4,
 "nbformat_minor": 2
}
